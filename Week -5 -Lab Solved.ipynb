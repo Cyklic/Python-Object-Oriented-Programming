{
 "cells": [
  {
   "cell_type": "markdown",
   "metadata": {},
   "source": [
    "# Week 5 Lab\n"
   ]
  },
  {
   "cell_type": "code",
   "execution_count": 1,
   "metadata": {},
   "outputs": [
    {
     "name": "stdout",
     "output_type": "stream",
     "text": [
      "Name: Leonard Umoru \n",
      "Student Number: 041152507\n"
     ]
    }
   ],
   "source": [
    "print ('Name: Leonard Umoru \\nStudent Number: 041152507')"
   ]
  },
  {
   "cell_type": "markdown",
   "metadata": {},
   "source": [
    "1. find the area and perimeter of rectangle"
   ]
  },
  {
   "cell_type": "code",
   "execution_count": 4,
   "metadata": {},
   "outputs": [],
   "source": [
    "class Rectangle():\n",
    "    def __init__(self, length, width):\n",
    "        self.length = length\n",
    "        self.width = width\n",
    "\n",
    "    def area(self):\n",
    "        return self.length * self.width\n",
    "\n",
    "    def perimeter(self):\n",
    "        return 2 * (self.length + self.width)\n"
   ]
  },
  {
   "cell_type": "code",
   "execution_count": 6,
   "metadata": {},
   "outputs": [
    {
     "name": "stdout",
     "output_type": "stream",
     "text": [
      "Area: 20\n",
      "Perimeter: 18\n"
     ]
    }
   ],
   "source": [
    "\n",
    "my_rectangle = Rectangle(5, 4)\n",
    "\n",
    "print(\"Area:\", my_rectangle.area())\n",
    "\n",
    "print(\"Perimeter:\", my_rectangle.perimeter())"
   ]
  },
  {
   "cell_type": "markdown",
   "metadata": {},
   "source": [
    "2. Write a program to accept coordinates as a pair of tuples and return the slope and distance of the line."
   ]
  },
  {
   "cell_type": "code",
   "execution_count": 9,
   "metadata": {},
   "outputs": [],
   "source": [
    "class Line(object):\n",
    "    \n",
    "    def __init__(self,coor1,coor2):\n",
    "        self.coor1 = coor1\n",
    "        self.coor2 = coor2\n",
    "        pass\n",
    "            \n",
    "    def distance(self):\n",
    "        return ((self.coor2[0] - self.coor1[0])**2 + (self.coor2[1] - self.coor1[1])**2)**0.5\n",
    "        pass        \n",
    "    \n",
    "    def slope(self):\n",
    "        return (self.coor2[1] - self.coor1[1]) / (self.coor2[0] - self.coor1[0])\n",
    "        pass\n",
    "    "
   ]
  },
  {
   "cell_type": "code",
   "execution_count": 11,
   "metadata": {},
   "outputs": [],
   "source": [
    "calc = Line((2,5), (6,8))"
   ]
  },
  {
   "cell_type": "code",
   "execution_count": 13,
   "metadata": {},
   "outputs": [
    {
     "name": "stdout",
     "output_type": "stream",
     "text": [
      "The distance of coordinates (2, 5) and (6, 8) is 5.0\n"
     ]
    }
   ],
   "source": [
    "print(f'The distance of coordinates {calc.coor1} and {calc.coor2} is {calc.distance()}')"
   ]
  },
  {
   "cell_type": "code",
   "execution_count": 15,
   "metadata": {},
   "outputs": [
    {
     "name": "stdout",
     "output_type": "stream",
     "text": [
      "The slope of the coordinates (2, 5) and (6, 8) is 0.75\n"
     ]
    }
   ],
   "source": [
    "print(f'The slope of the coordinates {calc.coor1} and {calc.coor2} is {calc.slope()}')"
   ]
  },
  {
   "cell_type": "code",
   "execution_count": null,
   "metadata": {},
   "outputs": [],
   "source": []
  },
  {
   "cell_type": "code",
   "execution_count": null,
   "metadata": {},
   "outputs": [],
   "source": []
  },
  {
   "cell_type": "markdown",
   "metadata": {},
   "source": [
    "3. Fill in the class "
   ]
  },
  {
   "cell_type": "code",
   "execution_count": 20,
   "metadata": {},
   "outputs": [],
   "source": [
    "class Cylinder:\n",
    "    pi = 3.14\n",
    "    def __init__(self,height=1,radius=1):\n",
    "        self.height = height\n",
    "        self.radius = radius\n",
    "        pass\n",
    "        \n",
    "    def volume(self):\n",
    "        return self.radius * self.radius * self.height * Cylinder.pi\n",
    "        pass\n",
    "    \n",
    "    def surface_area(self):\n",
    "        return (self.height + self.radius) * 2 * Cylinder.pi * self.radius\n",
    "        pass"
   ]
  },
  {
   "cell_type": "code",
   "execution_count": 22,
   "metadata": {},
   "outputs": [],
   "source": [
    "calc = Cylinder()"
   ]
  },
  {
   "cell_type": "code",
   "execution_count": 24,
   "metadata": {},
   "outputs": [
    {
     "name": "stdout",
     "output_type": "stream",
     "text": [
      "The volume of a Cylinder with height 1 and radius 1 is 3.14\n"
     ]
    }
   ],
   "source": [
    "print(f'The volume of a Cylinder with height {calc.height} and radius {calc.radius} is {calc.volume()}')"
   ]
  },
  {
   "cell_type": "code",
   "execution_count": 26,
   "metadata": {},
   "outputs": [
    {
     "name": "stdout",
     "output_type": "stream",
     "text": [
      "The surface area of a Cylinder with height 1 and radius 1 is 12.56\n"
     ]
    }
   ],
   "source": [
    "print(f'The surface area of a Cylinder with height {calc.height} and radius {calc.radius} is {calc.surface_area()}')"
   ]
  },
  {
   "cell_type": "code",
   "execution_count": null,
   "metadata": {},
   "outputs": [],
   "source": []
  },
  {
   "cell_type": "markdown",
   "metadata": {},
   "source": [
    "4. Creating a Simple Class\n",
    "\n",
    "    1. Define a class named Car.\n",
    "\n",
    "    2. Add the following attributes to the Car class:\n",
    "   \n",
    "            make (string)\n",
    "    \n",
    "            model (string)\n",
    "    \n",
    "            year (integer)\n",
    "    \n",
    "    3. Write a constructor method that initializes the make, model, and year attributes.\n",
    "\n",
    "    4. Write a method named display_info that prints out the make, model, and year of the car."
   ]
  },
  {
   "cell_type": "code",
   "execution_count": 30,
   "metadata": {},
   "outputs": [],
   "source": [
    "class Car:\n",
    "    def __init__(self, make, model, year):\n",
    "        self.make = make\n",
    "        self.model = model\n",
    "        self.year = year\n",
    "\n",
    "    def display_info(self):\n",
    "        return f'Make: {self.make} \\nModel: {self.model} \\nYear: {self.year}'  "
   ]
  },
  {
   "cell_type": "code",
   "execution_count": 32,
   "metadata": {},
   "outputs": [],
   "source": [
    "display = Car('Toyota', 'Camry', 2021)"
   ]
  },
  {
   "cell_type": "code",
   "execution_count": 34,
   "metadata": {},
   "outputs": [
    {
     "name": "stdout",
     "output_type": "stream",
     "text": [
      "Make: Toyota \n",
      "Model: Camry \n",
      "Year: 2021\n"
     ]
    }
   ],
   "source": [
    "print (display.display_info())"
   ]
  },
  {
   "cell_type": "code",
   "execution_count": null,
   "metadata": {},
   "outputs": [],
   "source": []
  },
  {
   "cell_type": "markdown",
   "metadata": {},
   "source": [
    "5. Polymorphism\n",
    "\n",
    "\n",
    "    1. Define a function named drive that takes a Car object as a parameter and prints a message indicating that the car is being driven.\n",
    "\n",
    "    2. Call the drive function with instances of both the Car and ElectricCar classes.\n"
   ]
  },
  {
   "cell_type": "code",
   "execution_count": 38,
   "metadata": {},
   "outputs": [],
   "source": [
    "class Car:\n",
    "    def __init__(self, make, model, year):\n",
    "        self.make = make\n",
    "        self.model = model\n",
    "        self.year = year\n",
    "\n",
    "    def display_info(self):\n",
    "        return f'Make:{self.make} \\nModel:{self.model} \\nYear:{self.year}'\n",
    "\n",
    "class ElectricCar(Car):\n",
    "    def __init__(self, make, model, year, battery_size):\n",
    "        self.make = make\n",
    "        self.model = model\n",
    "        self.year = year\n",
    "        self.battery_size = battery_size\n",
    "\n",
    "    def display_info(self):\n",
    "        return f'Make: {self.make} \\nModel: {self.model} \\nYear: {self.year} \\nBattery Size: {self.battery_size}'\n",
    "\n",
    "def drive(car_spec):\n",
    "    return f'{car_spec.make} {car_spec.model} {car_spec.year} is being driven'"
   ]
  },
  {
   "cell_type": "code",
   "execution_count": 40,
   "metadata": {},
   "outputs": [],
   "source": [
    "partial_spec = Car('Toyota', 'Camry', 2021)\n",
    "full_spec = ElectricCar('Chevrolet', 'Camaro', 2024, 48)"
   ]
  },
  {
   "cell_type": "code",
   "execution_count": 42,
   "metadata": {},
   "outputs": [
    {
     "data": {
      "text/plain": [
       "'Toyota Camry 2021 is being driven'"
      ]
     },
     "execution_count": 42,
     "metadata": {},
     "output_type": "execute_result"
    }
   ],
   "source": [
    "drive(partial_spec)"
   ]
  },
  {
   "cell_type": "code",
   "execution_count": 44,
   "metadata": {},
   "outputs": [
    {
     "data": {
      "text/plain": [
       "'Chevrolet Camaro 2024 is being driven'"
      ]
     },
     "execution_count": 44,
     "metadata": {},
     "output_type": "execute_result"
    }
   ],
   "source": [
    "drive(full_spec)"
   ]
  },
  {
   "cell_type": "markdown",
   "metadata": {},
   "source": [
    "6. Inheritance\n",
    "\n",
    "    1. Define a subclass named ElectricCar that inherits from the Car class.\n",
    "\n",
    "    2. Add an additional attribute to the ElectricCar class:\n",
    "    \n",
    "            battery_size (integer)\n",
    "        \n",
    "    3. Write a constructor method for the ElectricCar class that initializes the make, model, year, and battery_size attributes.\n",
    "\n",
    "    4. Override the display_info method in the ElectricCar class to include battery size information.\n",
    "\n",
    "    5. Create an instance of the ElectricCar class and call the display_info method to display its information."
   ]
  },
  {
   "cell_type": "code",
   "execution_count": 47,
   "metadata": {},
   "outputs": [],
   "source": [
    "class Car:\n",
    "    def __init__(self, make, model, year):\n",
    "        self.make = make\n",
    "        self.model = model\n",
    "        self.year = year\n",
    "\n",
    "    def display_info(self):\n",
    "        return f'Make: {self.make} \\nModel: {self.model} \\nYear: {self.year}'\n",
    "\n",
    "class ElectricCar(Car):\n",
    "    def __init__(self, make, model, year, battery_size):\n",
    "        self.make = make\n",
    "        self.model = model\n",
    "        self.year = year\n",
    "        self.battery_size = battery_size\n",
    "\n",
    "    def display_info(self):\n",
    "        return f'Make: {self.make} \\nModel: {self.model} \\nYear: {self.year} \\nBattery Size: {self.battery_size}'"
   ]
  },
  {
   "cell_type": "code",
   "execution_count": 49,
   "metadata": {},
   "outputs": [],
   "source": [
    "new = ElectricCar('Toyota', 'Camry', 2021, 35)"
   ]
  },
  {
   "cell_type": "code",
   "execution_count": 51,
   "metadata": {},
   "outputs": [
    {
     "name": "stdout",
     "output_type": "stream",
     "text": [
      "Make: Toyota \n",
      "Model: Camry \n",
      "Year: 2021 \n",
      "Battery Size: 35\n"
     ]
    }
   ],
   "source": [
    "print (new.display_info())"
   ]
  },
  {
   "cell_type": "code",
   "execution_count": null,
   "metadata": {},
   "outputs": [],
   "source": []
  },
  {
   "cell_type": "code",
   "execution_count": null,
   "metadata": {},
   "outputs": [],
   "source": []
  },
  {
   "cell_type": "markdown",
   "metadata": {},
   "source": [
    "### Challenge !!!"
   ]
  },
  {
   "cell_type": "markdown",
   "metadata": {},
   "source": [
    "Question : Consider a scenario where you are tasked with implementing a library management system in Python using OOP principles. \n",
    "\n",
    "Design the classes Library, Book, and Member with the following functionalities:\n",
    "\n",
    "    1. Library class should have methods to:\n",
    "            1. Add a new book to the library inventory.\n",
    "            2. Remove a book from the library inventory.\n",
    "            3. Display the list of all books currently available in the library.\n",
    "            4. Display the list of all books borrowed by a particular member.\n",
    "            5. Display the list of all members of the library.\n",
    "            \n",
    "    2. Book class should have attributes such as title, author, ISBN, and availability. It should also have methods to:\n",
    "            1.Mark the book as borrowed when checked out by a member.\n",
    "            2.Mark the book as returned when returned by a member.\n",
    "            \n",
    "    3. Member class should have attributes such as name, ID, and a list to store the books currently borrowed by the member. \n",
    "            It should also have methods to:\n",
    "            1. Borrow a book from the library.\n",
    "            2. Return a book to the library.\n",
    "            \n",
    "Your task is to write the Python code for the classes Library, Book, and Member, including appropriate methods to fulfill the functionalities mentioned above. Ensure proper encapsulation and demonstrate the interaction between these classes through a simple implementation or example usage."
   ]
  }
 ],
 "metadata": {
  "kernelspec": {
   "display_name": "Python 3 (ipykernel)",
   "language": "python",
   "name": "python3"
  },
  "language_info": {
   "codemirror_mode": {
    "name": "ipython",
    "version": 3
   },
   "file_extension": ".py",
   "mimetype": "text/x-python",
   "name": "python",
   "nbconvert_exporter": "python",
   "pygments_lexer": "ipython3",
   "version": "3.12.4"
  }
 },
 "nbformat": 4,
 "nbformat_minor": 4
}
